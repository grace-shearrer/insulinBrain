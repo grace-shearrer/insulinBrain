{
 "cells": [
  {
   "cell_type": "code",
   "execution_count": 1,
   "id": "d968927f",
   "metadata": {},
   "outputs": [
    {
     "name": "stderr",
     "output_type": "stream",
     "text": [
      "/Users/gracer/opt/anaconda3/envs/venv/lib/python3.7/site-packages/sklearn/linear_model/least_angle.py:30: DeprecationWarning: `np.float` is a deprecated alias for the builtin `float`. To silence this warning, use `float` by itself. Doing this will not modify any behavior and is safe. If you specifically wanted the numpy scalar type, use `np.float64` here.\n",
      "Deprecated in NumPy 1.20; for more details and guidance: https://numpy.org/devdocs/release/1.20.0-notes.html#deprecations\n",
      "  method='lar', copy_X=True, eps=np.finfo(np.float).eps,\n",
      "/Users/gracer/opt/anaconda3/envs/venv/lib/python3.7/site-packages/sklearn/linear_model/least_angle.py:167: DeprecationWarning: `np.float` is a deprecated alias for the builtin `float`. To silence this warning, use `float` by itself. Doing this will not modify any behavior and is safe. If you specifically wanted the numpy scalar type, use `np.float64` here.\n",
      "Deprecated in NumPy 1.20; for more details and guidance: https://numpy.org/devdocs/release/1.20.0-notes.html#deprecations\n",
      "  method='lar', copy_X=True, eps=np.finfo(np.float).eps,\n",
      "/Users/gracer/opt/anaconda3/envs/venv/lib/python3.7/site-packages/sklearn/linear_model/least_angle.py:284: DeprecationWarning: `np.float` is a deprecated alias for the builtin `float`. To silence this warning, use `float` by itself. Doing this will not modify any behavior and is safe. If you specifically wanted the numpy scalar type, use `np.float64` here.\n",
      "Deprecated in NumPy 1.20; for more details and guidance: https://numpy.org/devdocs/release/1.20.0-notes.html#deprecations\n",
      "  eps=np.finfo(np.float).eps, copy_Gram=True, verbose=0,\n",
      "/Users/gracer/opt/anaconda3/envs/venv/lib/python3.7/site-packages/sklearn/linear_model/least_angle.py:862: DeprecationWarning: `np.float` is a deprecated alias for the builtin `float`. To silence this warning, use `float` by itself. Doing this will not modify any behavior and is safe. If you specifically wanted the numpy scalar type, use `np.float64` here.\n",
      "Deprecated in NumPy 1.20; for more details and guidance: https://numpy.org/devdocs/release/1.20.0-notes.html#deprecations\n",
      "  eps=np.finfo(np.float).eps, copy_X=True, fit_path=True,\n",
      "/Users/gracer/opt/anaconda3/envs/venv/lib/python3.7/site-packages/sklearn/linear_model/least_angle.py:1101: DeprecationWarning: `np.float` is a deprecated alias for the builtin `float`. To silence this warning, use `float` by itself. Doing this will not modify any behavior and is safe. If you specifically wanted the numpy scalar type, use `np.float64` here.\n",
      "Deprecated in NumPy 1.20; for more details and guidance: https://numpy.org/devdocs/release/1.20.0-notes.html#deprecations\n",
      "  eps=np.finfo(np.float).eps, copy_X=True, fit_path=True,\n",
      "/Users/gracer/opt/anaconda3/envs/venv/lib/python3.7/site-packages/sklearn/linear_model/least_angle.py:1127: DeprecationWarning: `np.float` is a deprecated alias for the builtin `float`. To silence this warning, use `float` by itself. Doing this will not modify any behavior and is safe. If you specifically wanted the numpy scalar type, use `np.float64` here.\n",
      "Deprecated in NumPy 1.20; for more details and guidance: https://numpy.org/devdocs/release/1.20.0-notes.html#deprecations\n",
      "  eps=np.finfo(np.float).eps, positive=False):\n",
      "/Users/gracer/opt/anaconda3/envs/venv/lib/python3.7/site-packages/sklearn/linear_model/least_angle.py:1362: DeprecationWarning: `np.float` is a deprecated alias for the builtin `float`. To silence this warning, use `float` by itself. Doing this will not modify any behavior and is safe. If you specifically wanted the numpy scalar type, use `np.float64` here.\n",
      "Deprecated in NumPy 1.20; for more details and guidance: https://numpy.org/devdocs/release/1.20.0-notes.html#deprecations\n",
      "  max_n_alphas=1000, n_jobs=None, eps=np.finfo(np.float).eps,\n",
      "/Users/gracer/opt/anaconda3/envs/venv/lib/python3.7/site-packages/sklearn/linear_model/least_angle.py:1602: DeprecationWarning: `np.float` is a deprecated alias for the builtin `float`. To silence this warning, use `float` by itself. Doing this will not modify any behavior and is safe. If you specifically wanted the numpy scalar type, use `np.float64` here.\n",
      "Deprecated in NumPy 1.20; for more details and guidance: https://numpy.org/devdocs/release/1.20.0-notes.html#deprecations\n",
      "  max_n_alphas=1000, n_jobs=None, eps=np.finfo(np.float).eps,\n",
      "/Users/gracer/opt/anaconda3/envs/venv/lib/python3.7/site-packages/sklearn/linear_model/least_angle.py:1738: DeprecationWarning: `np.float` is a deprecated alias for the builtin `float`. To silence this warning, use `float` by itself. Doing this will not modify any behavior and is safe. If you specifically wanted the numpy scalar type, use `np.float64` here.\n",
      "Deprecated in NumPy 1.20; for more details and guidance: https://numpy.org/devdocs/release/1.20.0-notes.html#deprecations\n",
      "  eps=np.finfo(np.float).eps, copy_X=True, positive=False):\n",
      "/Users/gracer/opt/anaconda3/envs/venv/lib/python3.7/site-packages/sklearn/decomposition/online_lda.py:29: DeprecationWarning: `np.float` is a deprecated alias for the builtin `float`. To silence this warning, use `float` by itself. Doing this will not modify any behavior and is safe. If you specifically wanted the numpy scalar type, use `np.float64` here.\n",
      "Deprecated in NumPy 1.20; for more details and guidance: https://numpy.org/devdocs/release/1.20.0-notes.html#deprecations\n",
      "  EPS = np.finfo(np.float).eps\n",
      "/Users/gracer/opt/anaconda3/envs/venv/lib/python3.7/site-packages/sklearn/feature_extraction/image.py:167: DeprecationWarning: `np.int` is a deprecated alias for the builtin `int`. To silence this warning, use `int` by itself. Doing this will not modify any behavior and is safe. When replacing `np.int`, you may wish to use e.g. `np.int64` or `np.int32` to specify the precision. If you wish to review your current use, check the release note link for additional information.\n",
      "Deprecated in NumPy 1.20; for more details and guidance: https://numpy.org/devdocs/release/1.20.0-notes.html#deprecations\n",
      "  dtype=np.int):\n"
     ]
    },
    {
     "data": {
      "application/javascript": [
       "IPython.notebook.set_autosave_interval(5000)"
      ]
     },
     "metadata": {},
     "output_type": "display_data"
    },
    {
     "name": "stdout",
     "output_type": "stream",
     "text": [
      "Autosaving every 5 seconds\n"
     ]
    },
    {
     "data": {
      "application/javascript": [
       "IPython.notebook.set_autosave_interval(5000)"
      ]
     },
     "metadata": {},
     "output_type": "display_data"
    },
    {
     "name": "stdout",
     "output_type": "stream",
     "text": [
      "Autosaving every 5 seconds\n"
     ]
    }
   ],
   "source": [
    "import subprocess\n",
    "import pdb\n",
    "\n",
    "import os\n",
    "import glob\n",
    "import numpy as np\n",
    "from numpy.fft import fft, ifft, fftfreq\n",
    "import pandas as pd\n",
    "import matplotlib.pyplot as plt\n",
    "from matplotlib import gridspec\n",
    "from matplotlib.animation import FuncAnimation\n",
    "from nilearn.plotting import view_img_on_surf, view_img\n",
    "from scipy.stats import ttest_1samp\n",
    "\n",
    "import networkx as nx\n",
    "from IPython.display import HTML\n",
    "\n",
    "# import nest_asyncio\n",
    "# nest_asyncio.apply()\n",
    "# import datalad.api as dl\n",
    "\n",
    "import warnings\n",
    "import sys \n",
    "if not sys.warnoptions:\n",
    "    warnings.simplefilter(\"ignore\")\n",
    "\n",
    "import pandas as pd\n",
    "import scipy.io\n",
    "from scipy import stats\n",
    "\n",
    "from sklearn.manifold import MDS\n",
    "import scipy.spatial.distance as sp_distance\n",
    "from sklearn.preprocessing import RobustScaler, StandardScaler\n",
    "\n",
    "import matplotlib.pyplot as plt\n",
    "import seaborn as sns \n",
    "from mpl_toolkits.mplot3d import Axes3D\n",
    "\n",
    "import time\n",
    "from copy import deepcopy\n",
    "import numpy as np\n",
    "import pandas as pd \n",
    "\n",
    "from nilearn import datasets\n",
    "from nilearn import surface\n",
    "from nilearn import plotting\n",
    "from nilearn.input_data import NiftiMasker, NiftiLabelsMasker\n",
    "import nibabel as nib\n",
    "\n",
    "from nltools.data import Brain_Data, Adjacency\n",
    "from nltools.mask import expand_mask, roi_to_brain\n",
    "from nltools.stats import isc, isfc, isps, fdr, threshold, phase_randomize, circle_shift, _butter_bandpass_filter, _phase_mean_angle, _phase_vector_length\n",
    "from nilearn.plotting import view_img_on_surf, view_img\n",
    "from sklearn.metrics import pairwise_distances\n",
    "from sklearn.utils import check_random_state\n",
    "\n",
    "from brainiak import image, io\n",
    "from brainiak.isc import isc, isfc, permutation_isc\n",
    "import matplotlib.pyplot as plt\n",
    "import seaborn as sns \n",
    "\n",
    "from datetime import datetime as dt\n",
    "from scipy.signal import hilbert, butter, filtfilt\n",
    "from kuramoto import Kuramoto, plot_phase_coherence, plot_activity\n",
    "\n",
    "%autosave 5\n",
    "%matplotlib inline\n",
    "sns.set(style = 'white', context='talk', font_scale=1, rc={\"lines.linewidth\": 2})\n",
    "\n",
    "# %matplotlib notebook\n",
    "%matplotlib inline\n",
    "%autosave 5\n",
    "sns.set(style = 'white', context='poster', rc={\"lines.linewidth\": 2.5})\n",
    "sns.set(palette=\"colorblind\")\n"
   ]
  },
  {
   "cell_type": "code",
   "execution_count": 2,
   "id": "a99ce2c9",
   "metadata": {},
   "outputs": [],
   "source": [
    "labels = '/Users/gracer/Documents/BBC_21-2939_prepro_data/atlases/CIT168_Reinf_Learn_v1.1.0/labels.csv'\n",
    "bbasepath = '/Users/gracer/Documents/BBC_21-2939_prepro_data/derivatives/output/base'\n",
    "clamppath = '/Users/gracer/Documents/BBC_21-2939_prepro_data/derivatives/output/clamp'\n",
    "ppath = '/Users/gracer/Documents/BBC_21-2939_prepro_data/derivatives/output/'"
   ]
  },
  {
   "cell_type": "code",
   "execution_count": 4,
   "id": "4ac6fcbd",
   "metadata": {},
   "outputs": [],
   "source": [
    "ROI_names = pd.read_csv(labels,sep = ',')\n",
    "heads = list(ROI_names['ROI'])"
   ]
  },
  {
   "cell_type": "code",
   "execution_count": 6,
   "id": "064cfafe",
   "metadata": {
    "scrolled": true
   },
   "outputs": [
    {
     "data": {
      "text/plain": [
       "0        Pu\n",
       "1        Ca\n",
       "2       NAC\n",
       "3       EXA\n",
       "4       GPe\n",
       "5       GPi\n",
       "6       SNc\n",
       "7        RN\n",
       "8       SNr\n",
       "9       PBP\n",
       "10      VTA\n",
       "11      VeP\n",
       "12       HN\n",
       "13      HTH\n",
       "14       MN\n",
       "15      STH\n",
       "16    dlPFC\n",
       "17      Viz\n",
       "18    Hippo\n",
       "Name: ROI, dtype: object"
      ]
     },
     "execution_count": 6,
     "metadata": {},
     "output_type": "execute_result"
    }
   ],
   "source": [
    "ROI_names['ROI']"
   ]
  },
  {
   "cell_type": "markdown",
   "id": "b7923939",
   "metadata": {},
   "source": [
    "# Important functions"
   ]
  },
  {
   "cell_type": "code",
   "execution_count": 3,
   "id": "93a705d3",
   "metadata": {},
   "outputs": [],
   "source": [
    "def get_subject_roi(data, roi):\n",
    "    sub_rois = {}\n",
    "    for sub in data:\n",
    "        sub_rois[sub] = data[sub][roi]\n",
    "    return pd.DataFrame(sub_rois)"
   ]
  },
  {
   "cell_type": "markdown",
   "id": "ad1b03a2",
   "metadata": {},
   "source": [
    "# Standardizing the timeseries (brain and insulin seperately)\n",
    "Switch to both robust, ~~then seperate the negative (abs) and postive values~~, then run through the pipeline.\n",
    "4/27 had to switch both to standard cause robust obliterated the insulin"
   ]
  },
  {
   "cell_type": "code",
   "execution_count": 2,
   "id": "97c55f55",
   "metadata": {},
   "outputs": [],
   "source": [
    "def combo(path2ts, path2insulin, outpath, instatus):\n",
    "    prets = pd.read_csv(path2ts, sep = '  ', header = None)\n",
    "    print(prets.shape)\n",
    "    x = prets.shape[1]\n",
    "    if x > len(heads):\n",
    "#         pdb.set_trace()\n",
    "        if x - len(heads) == 2:\n",
    "            cols = [-2,-1]\n",
    "            prets = prets.drop(prets.columns[cols],axis=1)\n",
    "        if x - len(heads) == 1:\n",
    "            cols = [-1]\n",
    "            prets = prets.drop(prets.columns[cols],axis=1)\n",
    "    transformer = StandardScaler().fit(prets)\n",
    "    ts = pd.DataFrame(data = transformer.transform(prets))\n",
    "    ts = ts.set_axis(heads, axis=1, inplace=False)\n",
    "    ts['TR'] = ts.index\n",
    "    ts['TR'] = pd.to_datetime(ts['TR'], unit='s')\n",
    "    ts_downsamp = ts.set_index('TR').resample('60S').mean().dropna().reset_index()\n",
    "    ts_downsamp = ts_downsamp.rename({'TR': 'time'}, axis=1)\n",
    "    df = ts_downsamp\n",
    "    print(df.shape)\n",
    "    \n",
    "    if instatus == \"clamp\":\n",
    "        in_ts = pd.read_csv(path2insulin, sep = ',', encoding='latin-1')\n",
    "        ins = np.array(in_ts['insulin_uIU_mL']).reshape(-1, 1)\n",
    "        inscaler = StandardScaler()\n",
    "        X = pd.DataFrame(inscaler.fit_transform(ins))\n",
    "        \n",
    "        gluc = np.array(in_ts['glucose_mg_dL']).reshape(-1, 1)\n",
    "        gluscaler = StandardScaler()\n",
    "        Y = pd.DataFrame(gluscaler.fit_transform(gluc))\n",
    "\n",
    "        in_ts['insulin_uIU_mL'] = X\n",
    "        in_ts['glucose_mg_dL'] = Y\n",
    "        \n",
    "        in_ts['time'] = in_ts['time'] - 1\n",
    "        in_ts['time'] = pd.to_datetime(in_ts['time'], unit='m')\n",
    "\n",
    "        df = pd.merge(df, in_ts, on='time', how='outer')\n",
    "        df = df.drop(['label','sex','pid'], 1)\n",
    "        df.drop(df.index[:4], inplace=True)\n",
    "        \n",
    "    fp = outpath\n",
    "    df.to_csv(fp, index=False)"
   ]
  },
  {
   "cell_type": "markdown",
   "id": "a53a7422",
   "metadata": {},
   "source": [
    "Read in the corrlabel_ts.txt (this is the timeseries). The combo function will scale the data, downsample the imaging data, and create a csv file called total_ts.csv"
   ]
  },
  {
   "cell_type": "code",
   "execution_count": 14,
   "id": "b2780f65",
   "metadata": {},
   "outputs": [],
   "source": [
    "tasks = ['base','clamp']"
   ]
  },
  {
   "cell_type": "code",
   "execution_count": 15,
   "id": "59513e5f",
   "metadata": {},
   "outputs": [
    {
     "name": "stdout",
     "output_type": "stream",
     "text": [
      "/Users/gracer/Documents/BBC_21-2939_prepro_data/derivatives/output/base/20008\n",
      "(600, 21)\n",
      "(10, 20)\n",
      "/Users/gracer/Documents/BBC_21-2939_prepro_data/derivatives/output/base/20001\n",
      "(600, 21)\n",
      "(10, 20)\n",
      "/Users/gracer/Documents/BBC_21-2939_prepro_data/derivatives/output/base/20002\n",
      "(600, 21)\n",
      "(10, 20)\n",
      "/Users/gracer/Documents/BBC_21-2939_prepro_data/derivatives/output/base/20003\n",
      "(600, 21)\n",
      "(10, 20)\n",
      "/Users/gracer/Documents/BBC_21-2939_prepro_data/derivatives/output/base/20004\n",
      "(600, 20)\n",
      "(10, 20)\n",
      "/Users/gracer/Documents/BBC_21-2939_prepro_data/derivatives/output/base/20010\n",
      "(600, 21)\n",
      "(10, 20)\n",
      "/Users/gracer/Documents/BBC_21-2939_prepro_data/derivatives/output/clamp/20008\n",
      "(2784, 21)\n",
      "(47, 20)\n",
      "/Users/gracer/Documents/BBC_21-2939_prepro_data/derivatives/output/clamp/20001\n",
      "(2794, 21)\n",
      "(47, 20)\n",
      "/Users/gracer/Documents/BBC_21-2939_prepro_data/derivatives/output/clamp/20002\n",
      "(3600, 21)\n",
      "(60, 20)\n",
      "/Users/gracer/Documents/BBC_21-2939_prepro_data/derivatives/output/clamp/20003\n",
      "(3600, 21)\n",
      "(60, 20)\n",
      "/Users/gracer/Documents/BBC_21-2939_prepro_data/derivatives/output/clamp/20004\n",
      "(3600, 21)\n",
      "(60, 20)\n",
      "/Users/gracer/Documents/BBC_21-2939_prepro_data/derivatives/output/clamp/20010\n",
      "(3274, 21)\n",
      "(55, 20)\n"
     ]
    }
   ],
   "source": [
    "for task in tasks:\n",
    "    for sub_path in glob.glob(os.path.join(ppath,'%s'%task,'*')):\n",
    "        print(sub_path)\n",
    "        sub = sub_path.split('/')[-1]\n",
    "        style = sub_path.split('/')[-2]\n",
    "        path2ts = os.path.join(sub_path,'corrlabel_ts.txt')\n",
    "        path2insulin = os.path.join('/Users/gracer/Documents/BBC_21-2939_insulin','%s.csv'%sub)\n",
    "        outpath = os.path.join(sub_path,'total_ts.csv')\n",
    "        combo(path2ts, path2insulin, outpath, style)"
   ]
  },
  {
   "cell_type": "markdown",
   "id": "15c3531e",
   "metadata": {},
   "source": [
    "Drop excess columns and then drop na"
   ]
  },
  {
   "cell_type": "code",
   "execution_count": 19,
   "id": "abbb86a5",
   "metadata": {},
   "outputs": [
    {
     "name": "stdout",
     "output_type": "stream",
     "text": [
      "/Users/gracer/Documents/BBC_21-2939_prepro_data/derivatives/output/clamp/20008/total_ts.csv\n",
      "/Users/gracer/Documents/BBC_21-2939_prepro_data/derivatives/output/clamp/20001/total_ts.csv\n",
      "/Users/gracer/Documents/BBC_21-2939_prepro_data/derivatives/output/clamp/20002/total_ts.csv\n",
      "/Users/gracer/Documents/BBC_21-2939_prepro_data/derivatives/output/clamp/20003/total_ts.csv\n",
      "/Users/gracer/Documents/BBC_21-2939_prepro_data/derivatives/output/clamp/20004/total_ts.csv\n",
      "/Users/gracer/Documents/BBC_21-2939_prepro_data/derivatives/output/clamp/20010/total_ts.csv\n"
     ]
    }
   ],
   "source": [
    "sub_timeseries_w_na = {}\n",
    "for txtfile in glob.glob(os.path.join(clamppath,'*','total_ts.csv')):\n",
    "    print(txtfile)\n",
    "    df = pd.read_csv(txtfile)\n",
    "    sub = txtfile.split('/')[-2]\n",
    "#     df.reset_index(inplace=True, drop=True)\n",
    "    df = df.set_index('time')\n",
    "    df = df.drop(['PBP','VTA','SNr','glucose_mg_dL'], 1)\n",
    "    sub_timeseries_w_na[sub] = df\n"
   ]
  },
  {
   "cell_type": "code",
   "execution_count": 20,
   "id": "022e19f6",
   "metadata": {},
   "outputs": [],
   "source": [
    "heady = list(sub_timeseries_w_na['20001'].columns.values)"
   ]
  },
  {
   "cell_type": "code",
   "execution_count": 21,
   "id": "1a3c4135",
   "metadata": {},
   "outputs": [
    {
     "name": "stdout",
     "output_type": "stream",
     "text": [
      "20008\n",
      "20001\n",
      "20002\n",
      "20003\n",
      "20004\n",
      "20010\n"
     ]
    }
   ],
   "source": [
    "sub_timeseries = {}\n",
    "for sub,data in sub_timeseries_w_na.items():\n",
    "    print(sub)\n",
    "    sub_timeseries[sub] = data.dropna()"
   ]
  },
  {
   "cell_type": "markdown",
   "id": "f7f31b63",
   "metadata": {},
   "source": [
    "# Time syncrony\n",
    "This is the meat of the analysis stream, here we will calculated the synchonicity between each subject's roi and insulin.  \n",
    "https://naturalistic-data.org/content/Intersubject_Correlation.html#intersubject-phase-synchrony-tutorial"
   ]
  },
  {
   "cell_type": "markdown",
   "id": "08245fef",
   "metadata": {},
   "source": [
    "## Custom functions\n",
    "These aren't all custom, but I did break apart several existing functions to cobble them back together how I wanted"
   ]
  },
  {
   "cell_type": "code",
   "execution_count": 9,
   "id": "9fdc00a4",
   "metadata": {},
   "outputs": [],
   "source": [
    "def _phase_vector_length_sine_only(phase_angles):\n",
    "    \"\"\"\n",
    "    Only going to get the sine of the phase_angles\n",
    "    Compute vector length of phase angles using circular statistics\n",
    "\n",
    "    Can take 1D (observation for a single feature) or 2D (observation x feature) signals\n",
    "\n",
    "    Implementation from:\n",
    "\n",
    "        Fisher, N. I. (1995). Statistical analysis of circular data. cambridge university press.\n",
    "\n",
    "    Args:\n",
    "        phase_angles: (np.array) 1D or 2D array of phase angles\n",
    "\n",
    "    Returns:\n",
    "         phase angle vector length: (np.array)\n",
    "\n",
    "    \"\"\"\n",
    "\n",
    "    axis = 0 if len(phase_angles.shape) == 1 else 1\n",
    "    return np.float32(\n",
    "#             np.mean(np.cos(phase_angles), axis=axis) ** 2 +\n",
    "              np.mean(np.sin(phase_angles), axis=axis))"
   ]
  },
  {
   "cell_type": "code",
   "execution_count": 10,
   "id": "e3842999",
   "metadata": {},
   "outputs": [],
   "source": [
    "def b_bandpass_filter(data, low_cut, high_cut, fs, axis=0, order=5):\n",
    "    \"\"\"\n",
    "    Apply a bandpass butterworth filter with zero-phase filtering\n",
    "\n",
    "    Args:\n",
    "        data: (np.array)\n",
    "        low_cut: (float) lower bound cutoff for high pass filter\n",
    "        high_cut: (float) upper bound cutoff for low pass filter\n",
    "        fs: (float) sampling frequency in Hz\n",
    "        axis: (int) axis to perform filtering.\n",
    "        order: (int) filter order for butterworth bandpass\n",
    "\n",
    "    Returns:\n",
    "        bandpass filtered data.\n",
    "    \"\"\"\n",
    "    nyq = 0.5 * fs\n",
    "    b, a = butter(order, [low_cut / nyq, high_cut / nyq], btype=\"band\")\n",
    "    return filtfilt(b, a, data, axis=axis)"
   ]
  },
  {
   "cell_type": "code",
   "execution_count": 11,
   "id": "e3eddf06",
   "metadata": {},
   "outputs": [],
   "source": [
    "def isps_insulin(data, pairwise=False):\n",
    "    #Updated with sine only phase \n",
    "    if not isinstance(data, (pd.DataFrame, np.ndarray)):\n",
    "        raise ValueError(\"data must be a pandas dataframe or numpy array (observations by subjects)\")\n",
    "    phase = np.angle(hilbert(pd.DataFrame(data), axis=0))\n",
    "    out = {\"average_angle\": _phase_mean_angle(phase)}\n",
    "    out[\"vector_length\"] = _phase_vector_length_sine_only(phase)\n",
    "    return out\n"
   ]
  },
  {
   "cell_type": "code",
   "execution_count": 12,
   "id": "7c79f894",
   "metadata": {},
   "outputs": [],
   "source": [
    "def _phase_rayleigh_p(phase_angles):\n",
    "    \"\"\"Compute the p-value of the phase_angles using the Rayleigh statistic\n",
    "\n",
    "    Note: this test assumes every time point is independent, which is unlikely to be true in a timeseries with autocorrelation\n",
    "\n",
    "    Implementation from:\n",
    "\n",
    "        Fisher, N. I. (1995). Statistical analysis of circular data. cambridge university press.\n",
    "\n",
    "    Args:\n",
    "        phase_angles: (np.array) 1D or 2D array of phase angles\n",
    "\n",
    "    Returns:\n",
    "         p-values: (np.array)\n",
    "\n",
    "    \"\"\"\n",
    "\n",
    "    n = len(phase_angles) if len(phase_angles.shape) == 1 else phase_angles.shape[1]\n",
    "\n",
    "    Z = n * _phase_vector_length(phase_angles) ** 2\n",
    "    if n <= 50:\n",
    "        return np.exp(-1 * Z) * (\n",
    "            1\n",
    "            + (2 * Z - Z ** 2) / (4 * n)\n",
    "            - (24 * Z - 132 * Z ** 2 + 76 * Z ** 3 - 9 * Z ** 4) / (288 * n ** 2)\n",
    "        )\n",
    "    else:\n",
    "        return np.exp(-1 * Z)"
   ]
  },
  {
   "cell_type": "code",
   "execution_count": 31,
   "id": "9ff03ad3",
   "metadata": {},
   "outputs": [],
   "source": [
    "from datetime import datetime \n",
    "import pickle\n",
    "from time import time"
   ]
  },
  {
   "cell_type": "code",
   "execution_count": 32,
   "id": "5688ca55",
   "metadata": {},
   "outputs": [],
   "source": [
    "def adillyofapickle(basepath,dic, name):\n",
    "    datefmt='%m-%d-%Y_%I-%M-%S'\n",
    "    st = datetime.fromtimestamp(time()).strftime(datefmt)\n",
    "    if os.path.exists(os.path.join(basepath,'tmp')):\n",
    "        print('already have tmp')\n",
    "    else:\n",
    "        os.makedirs(os.path.join(basepath,'tmp'))\n",
    "    pickle.dump(dic, open(os.path.join(basepath,'tmp','%s_%s'%(name,st)), 'wb'), protocol=4)\n"
   ]
  },
  {
   "cell_type": "code",
   "execution_count": 17,
   "id": "e2b3dbd7",
   "metadata": {},
   "outputs": [],
   "source": [
    "def onetoughjar(path2dic):\n",
    "    with open(path2dic, 'rb') as pickle_file:\n",
    "        try:\n",
    "            while True:\n",
    "                output = pickle.load(pickle_file)\n",
    "        except EOFError:\n",
    "            pass\n",
    "    return(output)"
   ]
  },
  {
   "cell_type": "markdown",
   "id": "d6aa5c80",
   "metadata": {},
   "source": [
    "## About frequencies\n",
    "* intrinsic mode functions (IMFs)\n",
    "* variational mode decomposition (VMD)  \n",
    "(1) estimate individual IMFs by computing the Hilbert transform of the original signal f  \n",
    "(2) shift each mode to its base frequency using heterodyne demodulation  \n",
    "(3) estimate the bandwidth of each mode as the H1 Gaussian smoothness of the demodulated signal.\n",
    "\n",
    "The frequencies used in this analysis are dervived from (10.3389/fnins.2019.00900). They found 4 frequencies. \n",
    "* VMD IMF1: 0.20–0.24 Hz\n",
    "* VMD IMF2: 0.13–0.17 Hz\n",
    "* VMD IMF3: 0.063–0.098 Hz\n",
    "* VMD IMF4: 0.021–0.036 Hz  \n",
    "Their results are summarized here: IMF4 being the most stable across brain regions and IMF2 being the least. Highest correlations between brain regions are found using IMF4, followed by IMF3, while no strong patterns were seen for IMFs 1 and 2. We have identified the frequency cluster IMF3 as most representative of neutrally relevant BOLD, both by frequency and by spatial contribution."
   ]
  },
  {
   "cell_type": "markdown",
   "id": "e7d82f6f",
   "metadata": {},
   "source": [
    "## Get the phases of the rois\n",
    "This will get the phases for each roi per subject. This is using a bandpass filter and the hilbert transform in line with previous methods. "
   ]
  },
  {
   "cell_type": "code",
   "execution_count": 22,
   "id": "5dba9f72",
   "metadata": {},
   "outputs": [
    {
     "name": "stdout",
     "output_type": "stream",
     "text": [
      "Pu\n",
      "Ca\n",
      "NAC\n",
      "EXA\n",
      "GPe\n",
      "GPi\n",
      "SNc\n",
      "RN\n",
      "VeP\n",
      "HN\n",
      "HTH\n",
      "MN\n",
      "STH\n",
      "dlPFC\n",
      "Viz\n",
      "Hippo\n"
     ]
    }
   ],
   "source": [
    "phaze = {}\n",
    "tr = 1\n",
    "time = {}\n",
    "out = {}\n",
    "frequencies = [(0.021, 0.036),(0.063, 0.098),(0.13, 0.17),(0.2, 0.25)]\n",
    "frq = ['IMF4: 0.021–0.036 Hz','IMF3: 0.063–0.098 Hz','IMF2: 0.13–0.17 Hz','IMF1: 0.20–0.25 Hz']\n",
    "for roi in heady[0:-1]:\n",
    "    print(roi)\n",
    "    df = get_subject_roi(sub_timeseries, roi).dropna()\n",
    "    names = df.columns\n",
    "    time[roi] = df.index\n",
    "    phaze[roi]={}\n",
    "    for name in names:\n",
    "        phaze[roi][name]={}\n",
    "        for x, freq in enumerate(frequencies):\n",
    "            phaze[roi][name][frq[x]] = np.angle(\n",
    "                hilbert(b_bandpass_filter(get_subject_roi(sub_timeseries, roi).dropna()[name], low_cut=freq[0], high_cut=freq[1], fs=1/tr, order=5), \n",
    "                        axis=0,))\n",
    "\n",
    "\n"
   ]
  },
  {
   "cell_type": "code",
   "execution_count": 23,
   "id": "fb7d8716",
   "metadata": {},
   "outputs": [],
   "source": [
    "getphaserois = {'phaze':phaze,'time':time,'out':out,'frequencies':frequencies, 'frq':frq, 'tr':1}"
   ]
  },
  {
   "cell_type": "code",
   "execution_count": 33,
   "id": "8474530c",
   "metadata": {},
   "outputs": [
    {
     "name": "stdout",
     "output_type": "stream",
     "text": [
      "already have tmp\n"
     ]
    }
   ],
   "source": [
    "adillyofapickle('/Users/gracer/Documents/BBC_21-2939_prepro_data/derivatives/output',getphaserois, 'phases_of_rois')"
   ]
  },
  {
   "cell_type": "markdown",
   "id": "0ebce054",
   "metadata": {},
   "source": [
    "## Get insulin phase\n",
    "This is a hilbert transform to smooth the insulin time series. This produces a smooth insulin curve per subject. We will refer to this as the phase"
   ]
  },
  {
   "cell_type": "code",
   "execution_count": 34,
   "id": "9f998cee",
   "metadata": {},
   "outputs": [],
   "source": [
    "insulin_df = get_subject_roi(sub_timeseries, 'insulin_uIU_mL').dropna()\n",
    "subs = insulin_df.columns\n",
    "in_sync = {}\n",
    "for x in subs:\n",
    "    in_sync[x] = np.angle(hilbert(insulin_df[x], axis=0))"
   ]
  },
  {
   "cell_type": "code",
   "execution_count": 35,
   "id": "f9e2df34",
   "metadata": {},
   "outputs": [
    {
     "name": "stdout",
     "output_type": "stream",
     "text": [
      "already have tmp\n"
     ]
    }
   ],
   "source": [
    "adillyofapickle('/Users/gracer/Documents/BBC_21-2939_prepro_data/derivatives/output',in_sync, 'phases_of_insulin')"
   ]
  },
  {
   "cell_type": "markdown",
   "id": "4ad9f755",
   "metadata": {},
   "source": [
    "## Get the phase vector length of insulin and ROI\n",
    "Initially I did this all combined\n",
    "~~Here we combine the smoothed insulin phases and the filtered and smoothed ROI phases on a per ROI bases. This means the 4 insulin curves (1 per subject) are combined with the 4 ROI curves (1 per subject). We then calculate the phase vector length. A small phase vector length means the curves are not similar, a large phase vector length means the curves are in the same direction. ~~\n",
    "\n",
    "### What I actually did\n",
    "Going to do this pairwise with 1 insulin curve and 1 ROI persubject"
   ]
  },
  {
   "cell_type": "code",
   "execution_count": 36,
   "id": "ef712ea4",
   "metadata": {},
   "outputs": [
    {
     "name": "stdout",
     "output_type": "stream",
     "text": [
      "Pu\n",
      "20008\n",
      "20001\n",
      "20002\n",
      "20003\n",
      "20004\n",
      "20010\n",
      "Ca\n",
      "20008\n",
      "20001\n",
      "20002\n",
      "20003\n",
      "20004\n",
      "20010\n",
      "NAC\n",
      "20008\n",
      "20001\n",
      "20002\n",
      "20003\n",
      "20004\n",
      "20010\n",
      "EXA\n",
      "20008\n",
      "20001\n",
      "20002\n",
      "20003\n",
      "20004\n",
      "20010\n",
      "GPe\n",
      "20008\n",
      "20001\n",
      "20002\n",
      "20003\n",
      "20004\n",
      "20010\n",
      "GPi\n",
      "20008\n",
      "20001\n",
      "20002\n",
      "20003\n",
      "20004\n",
      "20010\n",
      "SNc\n",
      "20008\n",
      "20001\n",
      "20002\n",
      "20003\n",
      "20004\n",
      "20010\n",
      "RN\n",
      "20008\n",
      "20001\n",
      "20002\n",
      "20003\n",
      "20004\n",
      "20010\n",
      "VeP\n",
      "20008\n",
      "20001\n",
      "20002\n",
      "20003\n",
      "20004\n",
      "20010\n",
      "HN\n",
      "20008\n",
      "20001\n",
      "20002\n",
      "20003\n",
      "20004\n",
      "20010\n",
      "HTH\n",
      "20008\n",
      "20001\n",
      "20002\n",
      "20003\n",
      "20004\n",
      "20010\n",
      "MN\n",
      "20008\n",
      "20001\n",
      "20002\n",
      "20003\n",
      "20004\n",
      "20010\n",
      "STH\n",
      "20008\n",
      "20001\n",
      "20002\n",
      "20003\n",
      "20004\n",
      "20010\n",
      "dlPFC\n",
      "20008\n",
      "20001\n",
      "20002\n",
      "20003\n",
      "20004\n",
      "20010\n",
      "Viz\n",
      "20008\n",
      "20001\n",
      "20002\n",
      "20003\n",
      "20004\n",
      "20010\n",
      "Hippo\n",
      "20008\n",
      "20001\n",
      "20002\n",
      "20003\n",
      "20004\n",
      "20010\n"
     ]
    }
   ],
   "source": [
    "faze = {}\n",
    "p_faze = {}\n",
    "kura = {}\n",
    "for roi,subs in phaze.items():\n",
    "    print(roi)\n",
    "    faze[roi]={}\n",
    "    p_faze[roi]={}\n",
    "    kura[roi]={}\n",
    "    for sub, freq in subs.items():\n",
    "        print(sub)\n",
    "        faze[roi][sub]={}\n",
    "        p_faze[roi][sub]={}\n",
    "        kura[roi][sub]={}\n",
    "        for hz, df in freq.items():\n",
    "            allphase = np.hstack((in_sync[sub], df))\n",
    "            allphase = np.reshape(allphase, (40,2))\n",
    "            kura[roi][sub][hz] = [Kuramoto.phase_coherence(vec) for vec in allphase]\n",
    "            out = {\"average_angle\": _phase_mean_angle(allphase)}\n",
    "            faze[roi][sub][hz]=_phase_vector_length_sine_only(allphase)\n",
    "            p_faze[roi][sub][hz] = _phase_rayleigh_p(allphase)"
   ]
  },
  {
   "cell_type": "code",
   "execution_count": 37,
   "id": "36911318",
   "metadata": {},
   "outputs": [],
   "source": [
    "comb_data ={'faze':faze,'p_faze':p_faze,'kura':kura}"
   ]
  },
  {
   "cell_type": "code",
   "execution_count": 38,
   "id": "d205e1a5",
   "metadata": {},
   "outputs": [
    {
     "name": "stdout",
     "output_type": "stream",
     "text": [
      "already have tmp\n"
     ]
    }
   ],
   "source": [
    "adillyofapickle('/Users/gracer/Documents/BBC_21-2939_prepro_data/derivatives/output',comb_data, 'kura_data')"
   ]
  },
  {
   "cell_type": "markdown",
   "id": "dc6ceaf3",
   "metadata": {},
   "source": [
    "## Plots of phase similarity\n",
    "These plots show the similarity between the insulin and ROI curves at different frequency bands of the ROI signal (we are assuming there is only a single band of insulin). Yellow indicates high syncronicity and black means no syncronicity. The larger bands show little similarity and are usually \"noise\""
   ]
  },
  {
   "cell_type": "code",
   "execution_count": 17,
   "id": "bd98e8e6",
   "metadata": {},
   "outputs": [],
   "source": [
    "frq = 'IMF3: 0.063–0.098 Hz'\n",
    "roi = 'HTH'"
   ]
  },
  {
   "cell_type": "code",
   "execution_count": 54,
   "id": "a8db0331",
   "metadata": {},
   "outputs": [],
   "source": [
    "total_df = []\n",
    "for sub, data in kura[roi].items():\n",
    "    x = pd.DataFrame.from_dict(data)\n",
    "    x['sub'] = sub\n",
    "    total_df.append(x)\n",
    "sync_df = pd.concat(total_df)"
   ]
  },
  {
   "cell_type": "code",
   "execution_count": 56,
   "id": "121613d6",
   "metadata": {},
   "outputs": [
    {
     "data": {
      "text/plain": [
       "<matplotlib.legend.Legend at 0x7fee02bdaf50>"
      ]
     },
     "execution_count": 56,
     "metadata": {},
     "output_type": "execute_result"
    },
    {
     "data": {
      "image/png": "[encoded data removed]",
      "text/plain": [
       "<Figure size 2400x1200 with 1 Axes>"
      ]
     },
     "metadata": {},
     "output_type": "display_data"
    }
   ],
   "source": [
    "plt.figure(figsize=(16, 8), dpi=150)\n",
    "\n",
    "# sync_df.loc[sync_df['sub'] == '20001'][frq].plot(label='20001', color = 'red')\n",
    "# sync_df.loc[sync_df['sub'] == '20002'][frq].plot(label='20002', color = 'blue')\n",
    "# sync_df.loc[sync_df['sub'] == '20003'][frq].plot(label='20003', color = 'green')\n",
    "# sync_df.loc[sync_df['sub'] == '20004'][frq].plot(label='20004', color = 'purple')\n",
    "sync_df.loc[sync_df['sub'] == '20008'][frq].plot(label='20008', color = 'orange')\n",
    "# sync_df.loc[sync_df['sub'] == '20010'][frq].plot(label='20010', color = 'black')\n",
    "\n",
    "# adding title to the plot\n",
    "plt.title('Synchronicity')\n",
    "\n",
    "# adding Label to the x-axis\n",
    "plt.xlabel('time')\n",
    "\n",
    "# adding legend to the curve\n",
    "plt.legend()"
   ]
  },
  {
   "cell_type": "markdown",
   "id": "3b141334",
   "metadata": {},
   "source": [
    "# K vs. Rt per person and estimate the Kc value "
   ]
  },
  {
   "cell_type": "code",
   "execution_count": 113,
   "id": "de3386dd",
   "metadata": {},
   "outputs": [],
   "source": [
    "x1 = np.linspace(0, 6 * np.pi, 1000)\n",
    "x = np.sin(x1) + 0.6 * np.sin(2.6 * x1)"
   ]
  },
  {
   "cell_type": "code",
   "execution_count": 140,
   "id": "2cc894bf",
   "metadata": {},
   "outputs": [],
   "source": [
    "from scipy.signal import chirp, find_peaks, peak_widths\n",
    "from numpy import fft as fft\n",
    "from numpy.fft import rfft\n",
    "from numpy import argmax, mean, diff, log, nonzero\n",
    "from scipy.signal import blackmanharris, correlate\n",
    "from time import time\n",
    "import sys\n"
   ]
  },
  {
   "cell_type": "markdown",
   "id": "275fb33e",
   "metadata": {},
   "source": [
    "This function takes a signal and the TR. It uses a fourier transform to get the power spectrum and corresponding frequencies. It then finds the largest power peak and gets the frequency of that peak. From that peak it also calculates the fullwidth halfmax 'scale' of the peak. The frequency of the largest peak is the estimated 'natural frequency' the scale is the estimated deviation in the natural frequency. "
   ]
  },
  {
   "cell_type": "code",
   "execution_count": 243,
   "id": "f9239885",
   "metadata": {},
   "outputs": [],
   "source": [
    "def fouryo(data, tr):\n",
    "    N = len(data)\n",
    "\n",
    "    yf = fft(data)\n",
    "    xf = fftfreq(N, 1/tr)\n",
    "    max_index_col = np.argmax(abs(yf))\n",
    "    loc = xf[max_index_col]\n",
    "    \n",
    "    peaks, _ = find_peaks(yf)\n",
    "    results_half = peak_widths(yf, peaks, rel_height=0.5)\n",
    "    scale = results_half[0][max_index_col]\n",
    "    return({'loc':loc, 'scale':scale,'max':yf[max_index_col], 'freq':xf})\n"
   ]
  },
  {
   "cell_type": "code",
   "execution_count": 224,
   "id": "d75349b0",
   "metadata": {},
   "outputs": [
    {
     "data": {
      "text/plain": [
       "{'dist': array([ 0.29488298,  2.34346902, -0.88226521, ..., -0.82186277,\n",
       "        -0.13243834,  0.55797166]),\n",
       " 'loc': 0.1,\n",
       " 'scale': 0.6745511529553472,\n",
       " 'max': (30.500861664906456-6.830075309096054j),\n",
       " 'freq': 0.1}"
      ]
     },
     "execution_count": 224,
     "metadata": {},
     "output_type": "execute_result"
    }
   ],
   "source": [
    "fouryo(phaze[roi]['20008'][frq], tr)"
   ]
  },
  {
   "cell_type": "code",
   "execution_count": 62,
   "id": "426ad629",
   "metadata": {},
   "outputs": [],
   "source": [
    "from scipy.signal import chirp, find_peaks, peak_widths\n",
    "from numpy import fft as fft\n",
    "from numpy.fft import rfft\n",
    "from numpy import argmax, mean, diff, log, nonzero\n",
    "from scipy.signal import blackmanharris, correlate\n",
    "from time import time\n",
    "import sys\n",
    "\n",
    "\n",
    "\n"
   ]
  },
  {
   "cell_type": "code",
   "execution_count": 225,
   "id": "3498e0b2",
   "metadata": {},
   "outputs": [],
   "source": [
    "import random\n"
   ]
  },
  {
   "cell_type": "markdown",
   "id": "56458390",
   "metadata": {},
   "source": [
    "This function uses the above function and then calculates a Kuramoto model based on the estimated natural frequencies. It then takes the model and applies it to a 2 node graph"
   ]
  },
  {
   "cell_type": "code",
   "execution_count": 286,
   "id": "1bd99563",
   "metadata": {},
   "outputs": [],
   "source": [
    "def findKC(roi,sub,tr,frq):\n",
    "    wave1 = in_sync[sub]\n",
    "    wave2 = phaze[roi][sub][frq]\n",
    "    graph_nx = nx.erdos_renyi_graph(n=2, p=1) # p=1 -> all-to-all connectivity\n",
    "    graph = nx.to_numpy_array(graph_nx)\n",
    "    coupling_vals = np.linspace(0, 0.6, 100)\n",
    "    RR = []\n",
    "    KC = []\n",
    "    runs = []\n",
    "    mods = []\n",
    "    nat1 = fouryo(wave1, tr)\n",
    "    nat2 = fouryo(wave2, tr)\n",
    "    natfreq = np.array([nat1['loc'],nat2['loc']])\n",
    "    for coupling in coupling_vals:\n",
    "        model = Kuramoto(coupling=coupling, dt=0.1, T=27, natfreqs=natfreq)\n",
    "        act_mat = model.run(adj_mat=graph)\n",
    "        runs.append(act_mat) \n",
    "        mods.append(model)\n",
    "    runs_array = np.array(runs)\n",
    "    for i,coupling in enumerate(coupling_vals):\n",
    "        r_mean = np.mean([mods[i].phase_coherence(vec) for vec in runs_array[i, :, -1000:].T]) # mean over last 1000 steps\n",
    "        RR.append(r_mean)\n",
    "    Kc = np.sqrt(8 / np.pi) * np.std(model.natfreqs)\n",
    "    return({'Kc':Kc,'r_means':RR,'coupling_vals':coupling_vals,'roi_nat':nat2, 'insulin_nat':nat1, 'model':mods,'runs':runs})\n",
    "\n"
   ]
  },
  {
   "cell_type": "code",
   "execution_count": 287,
   "id": "d770f570",
   "metadata": {},
   "outputs": [],
   "source": [
    "frq = 'IMF3: 0.063–0.098 Hz'\n",
    "roi = 'HTH'\n",
    "tr = 1\n",
    "model_params = {}\n",
    "for sub,data in phaze[roi].items():\n",
    "    model_params[sub]=findKC(roi,sub,tr,frq)\n",
    "    "
   ]
  },
  {
   "cell_type": "code",
   "execution_count": 288,
   "id": "195cbed4",
   "metadata": {},
   "outputs": [
    {
     "data": {
      "text/plain": [
       "{'loc': 0.1,\n",
       " 'scale': 0.6745511529553472,\n",
       " 'max': (30.500861664906456-6.830075309096054j),\n",
       " 'freq': array([ 0.   ,  0.025,  0.05 ,  0.075,  0.1  ,  0.125,  0.15 ,  0.175,\n",
       "         0.2  ,  0.225,  0.25 ,  0.275,  0.3  ,  0.325,  0.35 ,  0.375,\n",
       "         0.4  ,  0.425,  0.45 ,  0.475, -0.5  , -0.475, -0.45 , -0.425,\n",
       "        -0.4  , -0.375, -0.35 , -0.325, -0.3  , -0.275, -0.25 , -0.225,\n",
       "        -0.2  , -0.175, -0.15 , -0.125, -0.1  , -0.075, -0.05 , -0.025])}"
      ]
     },
     "execution_count": 288,
     "metadata": {},
     "output_type": "execute_result"
    }
   ],
   "source": [
    "model_params['20008']['roi_nat']"
   ]
  },
  {
   "cell_type": "code",
   "execution_count": 289,
   "id": "3c02ffe4",
   "metadata": {},
   "outputs": [
    {
     "data": {
      "text/plain": [
       "{'loc': 0.025,\n",
       " 'scale': 1.7890753426703045,\n",
       " 'max': (-18.213721024191106+22.929447208400138j),\n",
       " 'freq': array([ 0.   ,  0.025,  0.05 ,  0.075,  0.1  ,  0.125,  0.15 ,  0.175,\n",
       "         0.2  ,  0.225,  0.25 ,  0.275,  0.3  ,  0.325,  0.35 ,  0.375,\n",
       "         0.4  ,  0.425,  0.45 ,  0.475, -0.5  , -0.475, -0.45 , -0.425,\n",
       "        -0.4  , -0.375, -0.35 , -0.325, -0.3  , -0.275, -0.25 , -0.225,\n",
       "        -0.2  , -0.175, -0.15 , -0.125, -0.1  , -0.075, -0.05 , -0.025])}"
      ]
     },
     "execution_count": 289,
     "metadata": {},
     "output_type": "execute_result"
    }
   ],
   "source": [
    "model_params['20008']['insulin_nat']"
   ]
  },
  {
   "cell_type": "code",
   "execution_count": 290,
   "id": "8e026f97",
   "metadata": {
    "scrolled": true
   },
   "outputs": [
    {
     "name": "stdout",
     "output_type": "stream",
     "text": [
      "20008 0.059841342060214915\n",
      "20001 0.01994711402007164\n",
      "20002 0.03989422804014326\n",
      "20003 0.03989422804014328\n",
      "20004 0.03989422804014328\n",
      "20010 0.059841342060214915\n"
     ]
    }
   ],
   "source": [
    "for sub,data in model_params.items():\n",
    "    print('%s %s'%(sub,data['Kc']))"
   ]
  },
  {
   "cell_type": "markdown",
   "id": "24c5fa3b",
   "metadata": {},
   "source": [
    "Coupling can occur at a lower K in individuals with better insulin sensitivity"
   ]
  },
  {
   "cell_type": "code",
   "execution_count": 294,
   "id": "ee943a1a",
   "metadata": {},
   "outputs": [
    {
     "data": {
      "image/png": "[encoded data removed]",
      "text/plain": [
       "<Figure size 432x288 with 1 Axes>"
      ]
     },
     "metadata": {},
     "output_type": "display_data"
    }
   ],
   "source": [
    "sub = '20003'\n",
    "plt.figure()\n",
    "plt.scatter(model_params[sub]['coupling_vals'], model_params[sub]['r_means'], c='steelblue', s=20, alpha=0.7)\n",
    "plt.vlines(model_params[sub]['Kc'], 0, 1, linestyles='--', color='orange', label='analytical prediction')\n",
    "\n",
    "plt.legend()\n",
    "plt.grid(linestyle='--', alpha=0.8)\n",
    "plt.ylabel('order parameter (R)')\n",
    "plt.xlabel('coupling (K)')\n",
    "sns.despine()"
   ]
  },
  {
   "cell_type": "code",
   "execution_count": 295,
   "id": "54e3d26d",
   "metadata": {},
   "outputs": [
    {
     "name": "stdout",
     "output_type": "stream",
     "text": [
      "already have tmp\n"
     ]
    }
   ],
   "source": [
    "adillyofapickle('/Users/gracer/Documents/BBC_21-2939_prepro_data/derivatives/output',model_params, 'model_params')"
   ]
  },
  {
   "cell_type": "markdown",
   "id": "b09de87b",
   "metadata": {},
   "source": [
    "## Saving the data to csv files to make nicer graphs in R"
   ]
  },
  {
   "cell_type": "code",
   "execution_count": 30,
   "id": "ce60d2d3",
   "metadata": {},
   "outputs": [],
   "source": [
    "basepath = '/Users/gracer/Documents/BBC_21-2939_prepro_data'"
   ]
  },
  {
   "cell_type": "code",
   "execution_count": 31,
   "id": "7d08ab70",
   "metadata": {},
   "outputs": [],
   "source": [
    "for roi, dat in faze.items():\n",
    "    sync_df = []\n",
    "    for sub, data in dat.items():\n",
    "        x = pd.DataFrame.from_dict(data)\n",
    "        x['sub'] = sub\n",
    "        x['time'] = time[roi]\n",
    "        x['time'] = pd.to_datetime(x['time'])\n",
    "        x['time'] = x['time'].dt.strftime('%H:%M:%S')\n",
    "        x = x.set_index('time')\n",
    "        sync_df.append(x)\n",
    "    sync_df = pd.concat(sync_df)\n",
    "    sync_df.to_csv(os.path.join(basepath,'derivatives','output','dfs','sync_%s.csv'%roi))  "
   ]
  },
  {
   "cell_type": "code",
   "execution_count": 32,
   "id": "244129ed",
   "metadata": {},
   "outputs": [],
   "source": [
    "for roi, dat in kura.items():\n",
    "    k_df = []\n",
    "    for sub, data in kura[roi].items():\n",
    "        x = pd.DataFrame.from_dict(data)\n",
    "        x['sub'] = sub\n",
    "        x['time'] = time[roi]\n",
    "        x['time'] = pd.to_datetime(x['time'])\n",
    "        x['time'] = x['time'].dt.strftime('%H:%M:%S')\n",
    "        x = x.set_index('time')\n",
    "        k_df.append(x)\n",
    "    kura_df = pd.concat(k_df)\n",
    "    kura_df.to_csv(os.path.join(basepath,'derivatives','output','dfs','kuramoto_%s.csv'%roi))  "
   ]
  },
  {
   "cell_type": "code",
   "execution_count": null,
   "id": "020e6e40",
   "metadata": {},
   "outputs": [],
   "source": []
  }
 ],
 "metadata": {
  "kernelspec": {
   "display_name": "Python 3 (ipykernel)",
   "language": "python",
   "name": "python3"
  },
  "language_info": {
   "codemirror_mode": {
    "name": "ipython",
    "version": 3
   },
   "file_extension": ".py",
   "mimetype": "text/x-python",
   "name": "python",
   "nbconvert_exporter": "python",
   "pygments_lexer": "ipython3",
   "version": "3.7.13"
  }
 },
 "nbformat": 4,
 "nbformat_minor": 5
}
