{
 "cells": [
  {
   "cell_type": "code",
   "execution_count": 2,
   "id": "03359396",
   "metadata": {},
   "outputs": [],
   "source": [
    "import os\n",
    "import glob\n",
    "import pandas as pd"
   ]
  },
  {
   "cell_type": "markdown",
   "id": "edd145d2",
   "metadata": {},
   "source": [
    "# Insulin kinetics"
   ]
  },
  {
   "cell_type": "code",
   "execution_count": 1,
   "id": "f885ade3",
   "metadata": {},
   "outputs": [],
   "source": [
    "def ins_convert(insulin_units, mol):\n",
    "    pmol = np.multiply(insulin_units, 6.0) \n",
    "    if mol == 'mol':\n",
    "        mole = 1000\n",
    "        mol = np.divide(pmol, mole)\n",
    "        return(mol)\n",
    "    else:\n",
    "        return(mol)"
   ]
  },
  {
   "cell_type": "code",
   "execution_count": null,
   "id": "59dc1469",
   "metadata": {},
   "outputs": [],
   "source": [
    "path2insulin = os.path.join('/Users/gracer/Documents/BBC_21-2939_insulin','*.csv')\n",
    "converted_ins = []\n",
    "for sub in glob.glob(path2insulin):\n",
    "    print(sub)\n",
    "    df = pd.read_csv(sub, sep = ',', encoding='latin-1')\n",
    "    converted_ins.append(df)\n",
    "    \n",
    "    \n",
    "ins_conv_df = pd.concat(converted_ins)"
   ]
  },
  {
   "cell_type": "code",
   "execution_count": null,
   "id": "8cba22b4",
   "metadata": {},
   "outputs": [],
   "source": [
    "ins_conv_df['insulin_pmol'] = ins_convert(ins_conv_df['insulin_uIU_mL'],'mol')"
   ]
  },
  {
   "cell_type": "markdown",
   "id": "8b6fd230",
   "metadata": {},
   "source": [
    "## Plot to see insulin patterns"
   ]
  },
  {
   "cell_type": "code",
   "execution_count": null,
   "id": "054036a7",
   "metadata": {},
   "outputs": [],
   "source": [
    "plt.figure(figsize=(16, 8), dpi=150)\n",
    "\n",
    "ins_conv_df.loc[ins_conv_df['pid'] == 20001]['insulin_pmol'].plot(label='%s phase 20004'%roi, color = 'violet')\n",
    "\n",
    "# adding title to the plot\n",
    "plt.title('ROI phase')\n",
    "\n",
    "# adding Label to the x-axis\n",
    "plt.xlabel('time')\n",
    "\n",
    "# adding legend to the curve\n",
    "plt.legend()"
   ]
  }
 ],
 "metadata": {
  "kernelspec": {
   "display_name": "Python 3 (ipykernel)",
   "language": "python",
   "name": "python3"
  },
  "language_info": {
   "codemirror_mode": {
    "name": "ipython",
    "version": 3
   },
   "file_extension": ".py",
   "mimetype": "text/x-python",
   "name": "python",
   "nbconvert_exporter": "python",
   "pygments_lexer": "ipython3",
   "version": "3.7.13"
  }
 },
 "nbformat": 4,
 "nbformat_minor": 5
}
