{
 "cells": [
  {
   "cell_type": "code",
   "execution_count": 1,
   "id": "44dd7c92",
   "metadata": {},
   "outputs": [
    {
     "name": "stderr",
     "output_type": "stream",
     "text": [
      "/Users/gracer/opt/anaconda3/envs/venv/lib/python3.7/site-packages/sklearn/linear_model/least_angle.py:30: DeprecationWarning: `np.float` is a deprecated alias for the builtin `float`. To silence this warning, use `float` by itself. Doing this will not modify any behavior and is safe. If you specifically wanted the numpy scalar type, use `np.float64` here.\n",
      "Deprecated in NumPy 1.20; for more details and guidance: https://numpy.org/devdocs/release/1.20.0-notes.html#deprecations\n",
      "  method='lar', copy_X=True, eps=np.finfo(np.float).eps,\n",
      "/Users/gracer/opt/anaconda3/envs/venv/lib/python3.7/site-packages/sklearn/linear_model/least_angle.py:167: DeprecationWarning: `np.float` is a deprecated alias for the builtin `float`. To silence this warning, use `float` by itself. Doing this will not modify any behavior and is safe. If you specifically wanted the numpy scalar type, use `np.float64` here.\n",
      "Deprecated in NumPy 1.20; for more details and guidance: https://numpy.org/devdocs/release/1.20.0-notes.html#deprecations\n",
      "  method='lar', copy_X=True, eps=np.finfo(np.float).eps,\n",
      "/Users/gracer/opt/anaconda3/envs/venv/lib/python3.7/site-packages/sklearn/linear_model/least_angle.py:284: DeprecationWarning: `np.float` is a deprecated alias for the builtin `float`. To silence this warning, use `float` by itself. Doing this will not modify any behavior and is safe. If you specifically wanted the numpy scalar type, use `np.float64` here.\n",
      "Deprecated in NumPy 1.20; for more details and guidance: https://numpy.org/devdocs/release/1.20.0-notes.html#deprecations\n",
      "  eps=np.finfo(np.float).eps, copy_Gram=True, verbose=0,\n",
      "/Users/gracer/opt/anaconda3/envs/venv/lib/python3.7/site-packages/sklearn/linear_model/least_angle.py:862: DeprecationWarning: `np.float` is a deprecated alias for the builtin `float`. To silence this warning, use `float` by itself. Doing this will not modify any behavior and is safe. If you specifically wanted the numpy scalar type, use `np.float64` here.\n",
      "Deprecated in NumPy 1.20; for more details and guidance: https://numpy.org/devdocs/release/1.20.0-notes.html#deprecations\n",
      "  eps=np.finfo(np.float).eps, copy_X=True, fit_path=True,\n",
      "/Users/gracer/opt/anaconda3/envs/venv/lib/python3.7/site-packages/sklearn/linear_model/least_angle.py:1101: DeprecationWarning: `np.float` is a deprecated alias for the builtin `float`. To silence this warning, use `float` by itself. Doing this will not modify any behavior and is safe. If you specifically wanted the numpy scalar type, use `np.float64` here.\n",
      "Deprecated in NumPy 1.20; for more details and guidance: https://numpy.org/devdocs/release/1.20.0-notes.html#deprecations\n",
      "  eps=np.finfo(np.float).eps, copy_X=True, fit_path=True,\n",
      "/Users/gracer/opt/anaconda3/envs/venv/lib/python3.7/site-packages/sklearn/linear_model/least_angle.py:1127: DeprecationWarning: `np.float` is a deprecated alias for the builtin `float`. To silence this warning, use `float` by itself. Doing this will not modify any behavior and is safe. If you specifically wanted the numpy scalar type, use `np.float64` here.\n",
      "Deprecated in NumPy 1.20; for more details and guidance: https://numpy.org/devdocs/release/1.20.0-notes.html#deprecations\n",
      "  eps=np.finfo(np.float).eps, positive=False):\n",
      "/Users/gracer/opt/anaconda3/envs/venv/lib/python3.7/site-packages/sklearn/linear_model/least_angle.py:1362: DeprecationWarning: `np.float` is a deprecated alias for the builtin `float`. To silence this warning, use `float` by itself. Doing this will not modify any behavior and is safe. If you specifically wanted the numpy scalar type, use `np.float64` here.\n",
      "Deprecated in NumPy 1.20; for more details and guidance: https://numpy.org/devdocs/release/1.20.0-notes.html#deprecations\n",
      "  max_n_alphas=1000, n_jobs=None, eps=np.finfo(np.float).eps,\n",
      "/Users/gracer/opt/anaconda3/envs/venv/lib/python3.7/site-packages/sklearn/linear_model/least_angle.py:1602: DeprecationWarning: `np.float` is a deprecated alias for the builtin `float`. To silence this warning, use `float` by itself. Doing this will not modify any behavior and is safe. If you specifically wanted the numpy scalar type, use `np.float64` here.\n",
      "Deprecated in NumPy 1.20; for more details and guidance: https://numpy.org/devdocs/release/1.20.0-notes.html#deprecations\n",
      "  max_n_alphas=1000, n_jobs=None, eps=np.finfo(np.float).eps,\n",
      "/Users/gracer/opt/anaconda3/envs/venv/lib/python3.7/site-packages/sklearn/linear_model/least_angle.py:1738: DeprecationWarning: `np.float` is a deprecated alias for the builtin `float`. To silence this warning, use `float` by itself. Doing this will not modify any behavior and is safe. If you specifically wanted the numpy scalar type, use `np.float64` here.\n",
      "Deprecated in NumPy 1.20; for more details and guidance: https://numpy.org/devdocs/release/1.20.0-notes.html#deprecations\n",
      "  eps=np.finfo(np.float).eps, copy_X=True, positive=False):\n",
      "/Users/gracer/opt/anaconda3/envs/venv/lib/python3.7/site-packages/sklearn/decomposition/online_lda.py:29: DeprecationWarning: `np.float` is a deprecated alias for the builtin `float`. To silence this warning, use `float` by itself. Doing this will not modify any behavior and is safe. If you specifically wanted the numpy scalar type, use `np.float64` here.\n",
      "Deprecated in NumPy 1.20; for more details and guidance: https://numpy.org/devdocs/release/1.20.0-notes.html#deprecations\n",
      "  EPS = np.finfo(np.float).eps\n",
      "/Users/gracer/opt/anaconda3/envs/venv/lib/python3.7/site-packages/sklearn/feature_extraction/image.py:167: DeprecationWarning: `np.int` is a deprecated alias for the builtin `int`. To silence this warning, use `int` by itself. Doing this will not modify any behavior and is safe. When replacing `np.int`, you may wish to use e.g. `np.int64` or `np.int32` to specify the precision. If you wish to review your current use, check the release note link for additional information.\n",
      "Deprecated in NumPy 1.20; for more details and guidance: https://numpy.org/devdocs/release/1.20.0-notes.html#deprecations\n",
      "  dtype=np.int):\n"
     ]
    },
    {
     "data": {
      "application/javascript": [
       "IPython.notebook.set_autosave_interval(5000)"
      ]
     },
     "metadata": {},
     "output_type": "display_data"
    },
    {
     "name": "stdout",
     "output_type": "stream",
     "text": [
      "Autosaving every 5 seconds\n"
     ]
    },
    {
     "data": {
      "application/javascript": [
       "IPython.notebook.set_autosave_interval(5000)"
      ]
     },
     "metadata": {},
     "output_type": "display_data"
    },
    {
     "name": "stdout",
     "output_type": "stream",
     "text": [
      "Autosaving every 5 seconds\n"
     ]
    }
   ],
   "source": [
    "import subprocess\n",
    "import pdb\n",
    "\n",
    "import os\n",
    "import glob\n",
    "import numpy as np\n",
    "from numpy.fft import fft, ifft, fftfreq\n",
    "import pandas as pd\n",
    "import matplotlib.pyplot as plt\n",
    "from matplotlib import gridspec\n",
    "from matplotlib.animation import FuncAnimation\n",
    "from nilearn.plotting import view_img_on_surf, view_img\n",
    "from scipy.stats import ttest_1samp\n",
    "\n",
    "import networkx as nx\n",
    "from IPython.display import HTML\n",
    "\n",
    "# import nest_asyncio\n",
    "# nest_asyncio.apply()\n",
    "# import datalad.api as dl\n",
    "\n",
    "import warnings\n",
    "import sys \n",
    "if not sys.warnoptions:\n",
    "    warnings.simplefilter(\"ignore\")\n",
    "\n",
    "import pandas as pd\n",
    "import scipy.io\n",
    "from scipy import stats\n",
    "\n",
    "from sklearn.manifold import MDS\n",
    "import scipy.spatial.distance as sp_distance\n",
    "from sklearn.preprocessing import RobustScaler, StandardScaler\n",
    "\n",
    "import matplotlib.pyplot as plt\n",
    "import seaborn as sns \n",
    "from mpl_toolkits.mplot3d import Axes3D\n",
    "\n",
    "import time\n",
    "from copy import deepcopy\n",
    "import numpy as np\n",
    "import pandas as pd \n",
    "\n",
    "from nilearn import datasets\n",
    "from nilearn import surface\n",
    "from nilearn import plotting\n",
    "from nilearn.input_data import NiftiMasker, NiftiLabelsMasker\n",
    "import nibabel as nib\n",
    "\n",
    "from nltools.data import Brain_Data, Adjacency\n",
    "from nltools.mask import expand_mask, roi_to_brain\n",
    "from nltools.stats import isc, isfc, isps, fdr, threshold, phase_randomize, circle_shift, _butter_bandpass_filter, _phase_mean_angle, _phase_vector_length\n",
    "from nilearn.plotting import view_img_on_surf, view_img\n",
    "from sklearn.metrics import pairwise_distances\n",
    "from sklearn.utils import check_random_state\n",
    "\n",
    "from brainiak import image, io\n",
    "from brainiak.isc import isc, isfc, permutation_isc\n",
    "import matplotlib.pyplot as plt\n",
    "import seaborn as sns \n",
    "\n",
    "from datetime import datetime as dt\n",
    "from scipy.signal import hilbert, butter, filtfilt\n",
    "from kuramoto import Kuramoto, plot_phase_coherence, plot_activity\n",
    "\n",
    "%autosave 5\n",
    "%matplotlib inline\n",
    "sns.set(style = 'white', context='talk', font_scale=1, rc={\"lines.linewidth\": 2})\n",
    "\n",
    "# %matplotlib notebook\n",
    "%matplotlib inline\n",
    "%autosave 5\n",
    "sns.set(style = 'white', context='poster', rc={\"lines.linewidth\": 2.5})\n",
    "sns.set(palette=\"colorblind\")\n"
   ]
  },
  {
   "cell_type": "markdown",
   "id": "80f7c874",
   "metadata": {},
   "source": [
    "# Functions to register the images\n",
    "Normal registrations lead to severe stretching an distortion of the functional images. Therefore, the ROIs (in MNI asym 09) and the T1 were registered to the functional image. While not standard, because this is an ROI analysis not whole brain we feel that this method is the best way to get the true areas of the ROIs in the functional images"
   ]
  },
  {
   "cell_type": "code",
   "execution_count": 3,
   "id": "caedb32f",
   "metadata": {},
   "outputs": [],
   "source": [
    "def get_t1(strc, basepath):\n",
    "    T1 = strc\n",
    "    sub = strc.split('/')[-1].split('.')[0].split('_')[-1]\n",
    "    output_path = os.path.join(basepath,'derivatives','reg')\n",
    "    return([sub,output_path,T1])"
   ]
  },
  {
   "cell_type": "code",
   "execution_count": 4,
   "id": "43e0daef",
   "metadata": {},
   "outputs": [],
   "source": [
    "def get_example_func(reference,T1,output_path,sub,style):\n",
    "    example_func = '%s/%s_%s_example_func.nii.gz'%(output_path,sub,style)\n",
    "    example_func_cmd = '/usr/local/fsl/bin/fslroi %s %s 300 1'%(reference,example_func)\n",
    "    example_func_cmd_list= example_func_cmd.split(' ')\n",
    "    subprocess.call(example_func_cmd_list)\n",
    "    print(example_func)\n",
    "    return(example_func)"
   ]
  },
  {
   "cell_type": "code",
   "execution_count": 5,
   "id": "7cea04cb",
   "metadata": {},
   "outputs": [],
   "source": [
    "def func_thresh(example_func,output_path,sub):\n",
    "    # threshold out extra bullshit\n",
    "    print('thresholding')\n",
    "    x = example_func.split('.')[0]\n",
    "    x = '%s_thr'%x\n",
    "    print(x)\n",
    "    thr_cmd = '/usr/local/fsl/bin/fslmaths %s -thr 200 %s'%(example_func,x)\n",
    "    thr_cmd_list = thr_cmd.split(' ')\n",
    "    subprocess.call(thr_cmd_list)\n",
    "    #example_func_thr = '%s/%s_example_func_thr.nii.gz'%(output_path,sub)\n",
    "    example_func_thr = '%s.nii.gz'%x\n",
    "    return(example_func_thr)"
   ]
  },
  {
   "cell_type": "code",
   "execution_count": 6,
   "id": "3c3cd117",
   "metadata": {},
   "outputs": [],
   "source": [
    "def heavy_lifting(T1,example_func_thr, output_path, sub, basepath):\n",
    "# register the T1 to the BOLD\n",
    "    ## get the matrix\n",
    "    print('welcome to the matrix')\n",
    "    x = example_func.split('.')[0]\n",
    "    outp = '%s_T12func.mat'%x\n",
    "    cmd = 'flirt -in %s -ref %s -out outputvol -omat %s'%(T1,example_func_thr,outp)\n",
    "    cmd_list = cmd.split(' ')\n",
    "    subprocess.call(cmd_list)\n",
    "    ## use the matrix\n",
    "    print('neo use the matrix')\n",
    "    matrix = outp\n",
    "    y = '%s_T12func'%x\n",
    "    flirt_cmd = 'flirt -in %s -ref %s -applyxfm -init %s -out %s'%(T1, example_func_thr,matrix,y)\n",
    "    flrt_cmd_list = flirt_cmd.split(' ')\n",
    "    subprocess.call(flrt_cmd_list)\n",
    "    # Register the atlas image to the T1\n",
    "    print('registering')\n",
    "    T1_reg = y\n",
    "    hi2std = '%s_highres2standard'%x\n",
    "    hi2stdmat = '%s_highres2standard.mat'%x\n",
    "    standard = os.path.join(basepath,'atlases','CIT168_Reinf_Learn_v1.1.0','MNI152-Nonlin-Asym-2009c','CIT168toMNI152-2009c_T1w_brain.nii.gz')\n",
    "    s2t1_cmd = '/usr/local/fsl/bin/flirt -in %s -ref %s -out %s -omat %s -cost corratio -dof 12 -searchrx -90 90 -searchry -90 90 -searchrz -90 90 -interp trilinear'%(standard,T1_reg, hi2std,hi2stdmat)\n",
    "    s2t1_cmd_list = s2t1_cmd.split(' ')\n",
    "    subprocess.call(s2t1_cmd_list)\n",
    "    return(hi2stdmat, T1_reg)"
   ]
  },
  {
   "cell_type": "code",
   "execution_count": 7,
   "id": "c6142700",
   "metadata": {},
   "outputs": [],
   "source": [
    "def roi_dir(mask_dir, sub, style):\n",
    "    roi_out = os.path.join(mask_dir,'%s_%s'%(style,sub))\n",
    "    try:\n",
    "        os.makedirs(roi_out)\n",
    "    except FileExistsError:\n",
    "        pass\n",
    "    return(roi_out)\n"
   ]
  },
  {
   "cell_type": "code",
   "execution_count": 8,
   "id": "108acede",
   "metadata": {},
   "outputs": [],
   "source": [
    "def roi_create(roi_orig, roi_out, T1_reg, matrix):\n",
    "    roi = roi_orig.split('/')[-1].split('_')[-1].split('.')[0]\n",
    "    print(roi)\n",
    "    ### align with the standard brain\n",
    "    outp = '%s/%s_roi2T1'%(roi_out,roi)\n",
    "    roi_cmd = 'flirt -in %s -ref %s -applyxfm -init %s -out %s'%(roi_orig,T1_reg,matrix,outp)\n",
    "    print(roi_cmd)\n",
    "    roi_cmd_list = roi_cmd.split(' ')\n",
    "    subprocess.call(roi_cmd_list)\n",
    "    return(outp, roi)"
   ]
  },
  {
   "cell_type": "code",
   "execution_count": 9,
   "id": "2463027a",
   "metadata": {},
   "outputs": [],
   "source": [
    "def roi_thresh(roi,roi_out,thresh):\n",
    "    inp ='%s/%s_roi2T1.nii.gz'%(roi_out,roi)\n",
    "    oot = '%s/%s_%s_roi2T1_thresh'%(roi_out,roi,thresh)\n",
    "    print(thresh)\n",
    "    thresh_cmd = '/usr/local/fsl/bin/fslmaths %s -thr %s %s'%(inp,thresh,oot)\n",
    "    print(thresh_cmd)\n",
    "    thresh_cmd_list = thresh_cmd.split(' ')\n",
    "    subprocess.run(thresh_cmd_list)\n",
    "    num = roi.split('l')[1]\n",
    "    oupt = '%s/%s_%s_roi2T1_thresh_bin'%(roi_out,roi,thresh)\n",
    "    bin_cmd = 'fslmaths %s -bin -mul %s %s'%(oot,num,oupt)\n",
    "    bin_cmd_list = bin_cmd.split(' ')\n",
    "    subprocess.run(bin_cmd_list)\n",
    "    return(oupt)"
   ]
  },
  {
   "cell_type": "code",
   "execution_count": 10,
   "id": "04ace432",
   "metadata": {},
   "outputs": [],
   "source": [
    "def roi_merger(path2rois, thresh):\n",
    "    ## make a total brain\n",
    "    rois = glob.glob(os.path.join(path2rois,'vol*_%s_roi2T1_thresh_bin.nii.gz'%thresh))\n",
    "    print(len(rois))\n",
    "    finalgirl = os.path.join(path2rois,'total_rois')\n",
    "    rois.append(finalgirl)\n",
    "    roi_cmd2 = 'fslmaths %s -add %s -add %s -add %s -add %s -add %s -add %s -add %s -add %s -add %s -add %s -add %s -add %s -add %s -add %s -add %s -add %s %s'%tuple(rois)\n",
    "    roi_cmd2_list=roi_cmd2.split(' ')\n",
    "    subprocess.run(roi_cmd2_list)"
   ]
  },
  {
   "cell_type": "code",
   "execution_count": 11,
   "id": "7c6eb36c",
   "metadata": {},
   "outputs": [],
   "source": [
    "def extractor(nifti, output):\n",
    "    bet_cmd = 'bet %s %s -F'%(nifti, output)\n",
    "    subprocess.run(['bet','%s'%nifti,'%s'%output,'-F'])"
   ]
  },
  {
   "cell_type": "markdown",
   "id": "e5c5e33f",
   "metadata": {},
   "source": [
    "## Need to register the two new ROIS to the same template as the others"
   ]
  },
  {
   "cell_type": "code",
   "execution_count": null,
   "id": "0a046703",
   "metadata": {},
   "outputs": [],
   "source": [
    "inp = os.path.join(basepath,'atlases','anatomical.nii.gz')\n",
    "out = os.path.join(basepath,'atlases','anatomical_asym.nii.gz')\n",
    "ref = os.path.join(basepath,'atlases','CIT168_Reinf_Learn_v1.1.0','MNI152-Nonlin-Asym-2009c','CIT168toMNI152-2009c_T1w_brain.nii.gz')\n",
    "outmat = os.path.join(basepath,'atlases','anatomical_asym.mat')\n",
    "fl_cmd = 'flirt -in %s -ref %s -out %s -omat %s'%(inp, ref, out,outmat)\n",
    "fl_cmd_list = fl_cmd.split(' ')\n",
    "subprocess.run(fl_cmd_list)\n"
   ]
  },
  {
   "cell_type": "code",
   "execution_count": null,
   "id": "b75256e6",
   "metadata": {},
   "outputs": [],
   "source": [
    "inp = os.path.join(basepath,'atlases','dlpfc_association-test_z_FDR_0.01.nii.gz')\n",
    "out = os.path.join(basepath,'atlases','atlas','CIT168toMNI152_prob_atlas_bilat_1mm__vol17')\n",
    "ref = os.path.join(basepath,'atlases','CIT168_Reinf_Learn_v1.1.0','MNI152-Nonlin-Asym-2009c','CIT168toMNI152-2009c_T1w_brain.nii.gz')\n",
    "inmat = os.path.join(basepath,'atlases','anatomical_asym.mat')\n",
    "fl2_cmd = 'flirt -in %s -ref %s -out %s -init %s -applyxfm'%(inp, ref, out, inmat)\n",
    "fl2_cmd_list = fl2_cmd.split(' ')\n",
    "subprocess.run(fl2_cmd_list)\n"
   ]
  },
  {
   "cell_type": "code",
   "execution_count": null,
   "id": "a5ee154b",
   "metadata": {},
   "outputs": [],
   "source": [
    "inp = os.path.join(basepath,'atlases','visual_cortex_association-test_z_FDR_0.01.nii.gz')\n",
    "out = os.path.join(basepath,'atlases','atlas','CIT168toMNI152_prob_atlas_bilat_1mm__vol18')\n",
    "ref = os.path.join(basepath,'atlases','CIT168_Reinf_Learn_v1.1.0','MNI152-Nonlin-Asym-2009c','CIT168toMNI152-2009c_T1w_brain.nii.gz')\n",
    "inmat = os.path.join(basepath,'atlases','anatomical_asym.mat')\n",
    "fl3_cmd = 'flirt -in %s -ref %s -out %s -init %s -applyxfm'%(inp, ref, out, inmat)\n",
    "fl3_cmd_list = fl3_cmd.split(' ')\n",
    "subprocess.run(fl3_cmd_list)\n"
   ]
  },
  {
   "cell_type": "code",
   "execution_count": null,
   "id": "cdecdf97",
   "metadata": {},
   "outputs": [],
   "source": [
    "inp = os.path.join(basepath,'atlases','hippocampus_association-test_z_FDR_0.01.nii.gz')\n",
    "out = os.path.join(basepath,'atlases','atlas','CIT168toMNI152_prob_atlas_bilat_1mm__vol19')\n",
    "ref = os.path.join(basepath,'atlases','CIT168_Reinf_Learn_v1.1.0','MNI152-Nonlin-Asym-2009c','CIT168toMNI152-2009c_T1w_brain.nii.gz')\n",
    "inmat = os.path.join(basepath,'atlases','anatomical_asym.mat')\n",
    "fl4_cmd = 'flirt -in %s -ref %s -out %s -init %s -applyxfm'%(inp, ref, out, inmat)\n",
    "fl4_cmd_list = fl4_cmd.split(' ')\n",
    "subprocess.run(fl4_cmd_list)"
   ]
  },
  {
   "cell_type": "markdown",
   "id": "a24d4f93",
   "metadata": {},
   "source": [
    "## Needed to prethreshold these. They are from neurosyth and pick up a lot of excess areas"
   ]
  },
  {
   "cell_type": "code",
   "execution_count": null,
   "id": "5eb8a0e7",
   "metadata": {},
   "outputs": [],
   "source": [
    "inp = '/Users/gracer/Documents/BBC_21-2939_prepro_data/atlases/atlas/CIT168toMNI152_prob_atlas_bilat_1mm__vol19.nii.gz'\n",
    "oot = '/Users/gracer/Documents/BBC_21-2939_prepro_data/atlases/atlas/threshCIT168toMNI152_prob_atlas_bilat_1mm__vol19.nii.gz'\n",
    "thresh = '10'\n",
    "thresh_cmd = '/usr/local/fsl/bin/fslmaths %s -thr %s %s'%(inp,thresh,oot)\n",
    "print(thresh_cmd)\n",
    "thresh_cmd_list = thresh_cmd.split(' ')\n",
    "subprocess.run(thresh_cmd_list)"
   ]
  },
  {
   "cell_type": "code",
   "execution_count": null,
   "id": "d6fb3095",
   "metadata": {},
   "outputs": [],
   "source": [
    "inp = '/Users/gracer/Documents/BBC_21-2939_prepro_data/atlases/atlas/CIT168toMNI152_prob_atlas_bilat_1mm__vol18.nii.gz'\n",
    "oot = '/Users/gracer/Documents/BBC_21-2939_prepro_data/atlases/atlas/threshCIT168toMNI152_prob_atlas_bilat_1mm__vol18.nii.gz'\n",
    "thresh = '3'\n",
    "thresh_cmd = '/usr/local/fsl/bin/fslmaths %s -thr %s %s'%(inp,thresh,oot)\n",
    "print(thresh_cmd)\n",
    "thresh_cmd_list = thresh_cmd.split(' ')\n",
    "subprocess.run(thresh_cmd_list)"
   ]
  },
  {
   "cell_type": "code",
   "execution_count": null,
   "id": "9f7656b6",
   "metadata": {},
   "outputs": [],
   "source": [
    "inp = '/Users/gracer/Documents/BBC_21-2939_prepro_data/atlases/atlas/CIT168toMNI152_prob_atlas_bilat_1mm__vol17.nii.gz'\n",
    "oot = '/Users/gracer/Documents/BBC_21-2939_prepro_data/atlases/atlas/threshCIT168toMNI152_prob_atlas_bilat_1mm__vol17.nii.gz'\n",
    "thresh = '6'\n",
    "thresh_cmd = '/usr/local/fsl/bin/fslmaths %s -thr %s %s'%(inp,thresh,oot)\n",
    "print(thresh_cmd)\n",
    "thresh_cmd_list = thresh_cmd.split(' ')\n",
    "subprocess.run(thresh_cmd_list)"
   ]
  },
  {
   "cell_type": "markdown",
   "id": "f4829dcf",
   "metadata": {},
   "source": [
    "# Skull stripping"
   ]
  },
  {
   "cell_type": "code",
   "execution_count": null,
   "id": "0615b871",
   "metadata": {},
   "outputs": [],
   "source": [
    "for task in tasks:\n",
    "    print(task)\n",
    "    for nifti in glob.glob(os.path.join(basepath,'func','%s'%task,'*.nii')):\n",
    "        print(nifti)\n",
    "        name = nifti.split('/')[-1].split('.')[0]\n",
    "        output = os.path.join(basepath,'derivatives','BET','%s_brain'%name)\n",
    "        extractor(nifti, output)"
   ]
  },
  {
   "cell_type": "markdown",
   "id": "a253b551",
   "metadata": {},
   "source": [
    "# Registration\n",
    "## Try not to run unless you got time"
   ]
  },
  {
   "cell_type": "code",
   "execution_count": null,
   "id": "396dc2e0",
   "metadata": {},
   "outputs": [],
   "source": [
    "for strc in glob.glob(os.path.join(basepath, 'anat','ss_t1*.nii')):\n",
    "    sub,output_path,T1 = get_t1(strc,basepath)\n",
    "    print(sub)\n",
    "    for task in tasks:\n",
    "        for ref in glob.glob(os.path.join(basepath,'derivatives','BET','%s'%task,'*%s*_brain.nii.gz'%sub)):\n",
    "            style = ref.split('_')[4]\n",
    "            example_func = get_example_func(ref,T1,output_path,sub,style)\n",
    "            example_func_thr = func_thresh(example_func,output_path,sub)\n",
    "            matrix, T1_reg = heavy_lifting(T1, example_func_thr, output_path, sub, basepath)\n",
    "            mask_dir = os.path.join(basepath,'atlases','atlas')\n",
    "            for x in glob.glob(os.path.join(mask_dir,'CIT168toMNI152_prob_atlas_bilat_1mm__vol*.nii.gz')):\n",
    "                \n",
    "                roi_orig = os.path.join(mask_dir,x)\n",
    "                roi_out = roi_dir(mask_dir, sub,style)\n",
    "                roi_path,roi = roi_create(roi_orig, roi_out, T1_reg, matrix)\n",
    "                roithr = roi_thresh(roi,roi_out,'0.5')\n"
   ]
  },
  {
   "cell_type": "markdown",
   "id": "968f104a",
   "metadata": {},
   "source": [
    "Exlcuding the PBP, VTA, SNr due to low signal. Need to fix roi_merger so it can predict the number of inputs"
   ]
  },
  {
   "cell_type": "code",
   "execution_count": null,
   "id": "5db10836",
   "metadata": {},
   "outputs": [],
   "source": [
    "for path2rois in glob.glob(os.path.join('/Users/gracer/Documents/BBC_21-2939_prepro_data/atlases/atlas','*_*/')):\n",
    "    print(path2rois)\n",
    "    roi_merger(path2rois, '0.5')"
   ]
  },
  {
   "cell_type": "markdown",
   "id": "4c2381ab",
   "metadata": {},
   "source": [
    "# Parcellation "
   ]
  },
  {
   "cell_type": "code",
   "execution_count": 12,
   "id": "85e9d587",
   "metadata": {},
   "outputs": [],
   "source": [
    "def parcellator(basepath, func, corrlabel):\n",
    "    print(\"starting parcellation\")\n",
    "    corrtxt = os.path.join(basepath,'corrlabel_ts.txt')\n",
    "    cmd = 'fslmeants -i %s --label=%s -o %s'%(func, corrlabel, corrtxt)\n",
    "    cmd_list = cmd.split(' ')\n",
    "    print(cmd_list)\n",
    "    subprocess.run(cmd_list)"
   ]
  },
  {
   "cell_type": "code",
   "execution_count": null,
   "id": "02e6aad7",
   "metadata": {},
   "outputs": [],
   "source": [
    "outpath = '/Users/gracer/Documents/BBC_21-2939_prepro_data/derivatives/output'\n",
    "for task in tasks:\n",
    "    for func in glob.glob(os.path.join(basepath,'derivatives','BET','%s'%task,'*_brain.nii.gz')):\n",
    "        sub = func.split('/')[-1].split('_')[0].split('u')[-1]\n",
    "        style = func.split('/')[-1].split('_')[1]\n",
    "        print(sub)\n",
    "        print(style)\n",
    "        try:\n",
    "            op = os.path.join(outpath,style,sub)\n",
    "            os.makedirs(op)\n",
    "        except FileExistsError:\n",
    "            pass\n",
    "        corrlabel = os.path.join('/Users/gracer/Documents/BBC_21-2939_prepro_data/atlases/atlas','%s_%s'%(style,sub),'total_rois.nii.gz')\n",
    "        parcellator(op, func, corrlabel)\n"
   ]
  },
  {
   "cell_type": "markdown",
   "id": "5e1e8359",
   "metadata": {},
   "source": [
    "Slight overlap with hippocampus and the Nac and hippocampus and the putamen. Delete the last two columns "
   ]
  },
  {
   "cell_type": "markdown",
   "id": "3877f23b",
   "metadata": {},
   "source": [
    "After this point you should have a file called corrlabel_ts.txt per subject. This is the timeseries per ROI for each subject"
   ]
  },
  {
   "cell_type": "markdown",
   "id": "ea07f977",
   "metadata": {},
   "source": [
    "# Correlations\n",
    "We didn't actually use this but it could be useful later"
   ]
  },
  {
   "cell_type": "code",
   "execution_count": 13,
   "id": "217d47ec",
   "metadata": {},
   "outputs": [],
   "source": [
    "def correlations(outpath, txtfile):\n",
    "    print('starting correlation')\n",
    "    rtxt = os.path.join(outpath,'new_r_matrix.csv')\n",
    "    ztxt = os.path.join(outpath,'new_zr_matrix.csv')\n",
    "    corrtxt = os.path.join(outpath,txtfile)\n",
    "    \n",
    "    if os.path.isfile(corrtxt):        \n",
    "        timeseries = pd.read_csv(corrtxt, header = None, sep = '  ')\n",
    "        timeseries = timeseries.drop([0], 1)\n",
    "        timeseries = timeseries.apply(pd.to_numeric)\n",
    "        myres = timeseries.corr(method='pearson')\n",
    "\n",
    "        \n",
    "\n",
    "        zrmaps = stats.zscore(myres, nan_policy='omit')\n",
    "        \n",
    "        pd.DataFrame(zrmaps).to_csv(ztxt, index=False, header= False)\n",
    "        pd.DataFrame(myres).to_csv(rtxt, index=False, header= False)\n",
    "\n"
   ]
  },
  {
   "cell_type": "markdown",
   "id": "a19bdede",
   "metadata": {},
   "source": [
    "## Open timeseries_manipulations to continue the analysis"
   ]
  },
  {
   "cell_type": "code",
   "execution_count": null,
   "id": "cebc0f0a",
   "metadata": {},
   "outputs": [],
   "source": []
  }
 ],
 "metadata": {
  "kernelspec": {
   "display_name": "Python 3 (ipykernel)",
   "language": "python",
   "name": "python3"
  },
  "language_info": {
   "codemirror_mode": {
    "name": "ipython",
    "version": 3
   },
   "file_extension": ".py",
   "mimetype": "text/x-python",
   "name": "python",
   "nbconvert_exporter": "python",
   "pygments_lexer": "ipython3",
   "version": "3.7.13"
  }
 },
 "nbformat": 4,
 "nbformat_minor": 5
}
